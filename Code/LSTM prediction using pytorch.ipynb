{
 "cells": [
  {
   "cell_type": "code",
   "execution_count": 1,
   "metadata": {},
   "outputs": [],
   "source": [
    "import torch\n",
    "from torch import nn\n",
    "import numpy as np\n",
    "import pandas as pd\n",
    "from torch.nn import functional as F\n",
    "import matplotlib.pyplot as plt\n",
    "import warnings\n",
    "from sklearn.preprocessing import LabelEncoder\n",
    "from sklearn.preprocessing import MinMaxScaler\n",
    "from sklearn.model_selection import train_test_split\n",
    "from torch.utils.data import TensorDataset, DataLoader\n",
    "warnings.filterwarnings('ignore')"
   ]
  },
  {
   "cell_type": "code",
   "execution_count": 2,
   "metadata": {},
   "outputs": [],
   "source": [
    "data = pd.read_csv(\"LSTM-Multivariate_pollution.csv\",index_col = 0)\n",
    "#data['date'] = pd.to_datetime(data['date'],format='%Y-%m-%d %H:%M:%S')"
   ]
  },
  {
   "cell_type": "code",
   "execution_count": 3,
   "metadata": {
    "scrolled": true
   },
   "outputs": [
    {
     "data": {
      "text/plain": [
       "pollution    float64\n",
       "dew            int64\n",
       "temp         float64\n",
       "press        float64\n",
       "wnd_dir       object\n",
       "wnd_spd      float64\n",
       "snow           int64\n",
       "rain           int64\n",
       "dtype: object"
      ]
     },
     "execution_count": 3,
     "metadata": {},
     "output_type": "execute_result"
    }
   ],
   "source": [
    "data.dtypes"
   ]
  },
  {
   "cell_type": "code",
   "execution_count": 4,
   "metadata": {
    "scrolled": true
   },
   "outputs": [
    {
     "data": {
      "text/html": [
       "<div>\n",
       "<style scoped>\n",
       "    .dataframe tbody tr th:only-of-type {\n",
       "        vertical-align: middle;\n",
       "    }\n",
       "\n",
       "    .dataframe tbody tr th {\n",
       "        vertical-align: top;\n",
       "    }\n",
       "\n",
       "    .dataframe thead th {\n",
       "        text-align: right;\n",
       "    }\n",
       "</style>\n",
       "<table border=\"1\" class=\"dataframe\">\n",
       "  <thead>\n",
       "    <tr style=\"text-align: right;\">\n",
       "      <th></th>\n",
       "      <th>pollution</th>\n",
       "      <th>dew</th>\n",
       "      <th>temp</th>\n",
       "      <th>press</th>\n",
       "      <th>wnd_dir</th>\n",
       "      <th>wnd_spd</th>\n",
       "      <th>snow</th>\n",
       "      <th>rain</th>\n",
       "    </tr>\n",
       "    <tr>\n",
       "      <th>date</th>\n",
       "      <th></th>\n",
       "      <th></th>\n",
       "      <th></th>\n",
       "      <th></th>\n",
       "      <th></th>\n",
       "      <th></th>\n",
       "      <th></th>\n",
       "      <th></th>\n",
       "    </tr>\n",
       "  </thead>\n",
       "  <tbody>\n",
       "    <tr>\n",
       "      <th>2010-01-02 00:00:00</th>\n",
       "      <td>129.0</td>\n",
       "      <td>-16</td>\n",
       "      <td>-4.0</td>\n",
       "      <td>1020.0</td>\n",
       "      <td>SE</td>\n",
       "      <td>1.79</td>\n",
       "      <td>0</td>\n",
       "      <td>0</td>\n",
       "    </tr>\n",
       "    <tr>\n",
       "      <th>2010-01-02 01:00:00</th>\n",
       "      <td>148.0</td>\n",
       "      <td>-15</td>\n",
       "      <td>-4.0</td>\n",
       "      <td>1020.0</td>\n",
       "      <td>SE</td>\n",
       "      <td>2.68</td>\n",
       "      <td>0</td>\n",
       "      <td>0</td>\n",
       "    </tr>\n",
       "    <tr>\n",
       "      <th>2010-01-02 02:00:00</th>\n",
       "      <td>159.0</td>\n",
       "      <td>-11</td>\n",
       "      <td>-5.0</td>\n",
       "      <td>1021.0</td>\n",
       "      <td>SE</td>\n",
       "      <td>3.57</td>\n",
       "      <td>0</td>\n",
       "      <td>0</td>\n",
       "    </tr>\n",
       "    <tr>\n",
       "      <th>2010-01-02 03:00:00</th>\n",
       "      <td>181.0</td>\n",
       "      <td>-7</td>\n",
       "      <td>-5.0</td>\n",
       "      <td>1022.0</td>\n",
       "      <td>SE</td>\n",
       "      <td>5.36</td>\n",
       "      <td>1</td>\n",
       "      <td>0</td>\n",
       "    </tr>\n",
       "    <tr>\n",
       "      <th>2010-01-02 04:00:00</th>\n",
       "      <td>138.0</td>\n",
       "      <td>-7</td>\n",
       "      <td>-5.0</td>\n",
       "      <td>1022.0</td>\n",
       "      <td>SE</td>\n",
       "      <td>6.25</td>\n",
       "      <td>2</td>\n",
       "      <td>0</td>\n",
       "    </tr>\n",
       "  </tbody>\n",
       "</table>\n",
       "</div>"
      ],
      "text/plain": [
       "                     pollution  dew  temp   press wnd_dir  wnd_spd  snow  rain\n",
       "date                                                                          \n",
       "2010-01-02 00:00:00      129.0  -16  -4.0  1020.0      SE     1.79     0     0\n",
       "2010-01-02 01:00:00      148.0  -15  -4.0  1020.0      SE     2.68     0     0\n",
       "2010-01-02 02:00:00      159.0  -11  -5.0  1021.0      SE     3.57     0     0\n",
       "2010-01-02 03:00:00      181.0   -7  -5.0  1022.0      SE     5.36     1     0\n",
       "2010-01-02 04:00:00      138.0   -7  -5.0  1022.0      SE     6.25     2     0"
      ]
     },
     "execution_count": 4,
     "metadata": {},
     "output_type": "execute_result"
    }
   ],
   "source": [
    "data.head()"
   ]
  },
  {
   "cell_type": "code",
   "execution_count": 7,
   "metadata": {},
   "outputs": [],
   "source": [
    "wind_dir_enc = LabelEncoder()\n",
    "data[\"wnd_dir\"]= wind_dir_enc.fit_transform(data[\"wnd_dir\"])\n",
    "data[\"wnd_dir\"] = data[\"wnd_dir\"].astype(float)"
   ]
  },
  {
   "cell_type": "code",
   "execution_count": 8,
   "metadata": {},
   "outputs": [
    {
     "data": {
      "text/html": [
       "<div>\n",
       "<style scoped>\n",
       "    .dataframe tbody tr th:only-of-type {\n",
       "        vertical-align: middle;\n",
       "    }\n",
       "\n",
       "    .dataframe tbody tr th {\n",
       "        vertical-align: top;\n",
       "    }\n",
       "\n",
       "    .dataframe thead th {\n",
       "        text-align: right;\n",
       "    }\n",
       "</style>\n",
       "<table border=\"1\" class=\"dataframe\">\n",
       "  <thead>\n",
       "    <tr style=\"text-align: right;\">\n",
       "      <th></th>\n",
       "      <th>pollution</th>\n",
       "      <th>dew</th>\n",
       "      <th>temp</th>\n",
       "      <th>press</th>\n",
       "      <th>wnd_dir</th>\n",
       "      <th>wnd_spd</th>\n",
       "      <th>snow</th>\n",
       "      <th>rain</th>\n",
       "    </tr>\n",
       "    <tr>\n",
       "      <th>date</th>\n",
       "      <th></th>\n",
       "      <th></th>\n",
       "      <th></th>\n",
       "      <th></th>\n",
       "      <th></th>\n",
       "      <th></th>\n",
       "      <th></th>\n",
       "      <th></th>\n",
       "    </tr>\n",
       "  </thead>\n",
       "  <tbody>\n",
       "    <tr>\n",
       "      <th>2010-01-02 00:00:00</th>\n",
       "      <td>129.0</td>\n",
       "      <td>-16</td>\n",
       "      <td>-4.0</td>\n",
       "      <td>1020.0</td>\n",
       "      <td>2.0</td>\n",
       "      <td>1.79</td>\n",
       "      <td>0</td>\n",
       "      <td>0</td>\n",
       "    </tr>\n",
       "    <tr>\n",
       "      <th>2010-01-02 01:00:00</th>\n",
       "      <td>148.0</td>\n",
       "      <td>-15</td>\n",
       "      <td>-4.0</td>\n",
       "      <td>1020.0</td>\n",
       "      <td>2.0</td>\n",
       "      <td>2.68</td>\n",
       "      <td>0</td>\n",
       "      <td>0</td>\n",
       "    </tr>\n",
       "    <tr>\n",
       "      <th>2010-01-02 02:00:00</th>\n",
       "      <td>159.0</td>\n",
       "      <td>-11</td>\n",
       "      <td>-5.0</td>\n",
       "      <td>1021.0</td>\n",
       "      <td>2.0</td>\n",
       "      <td>3.57</td>\n",
       "      <td>0</td>\n",
       "      <td>0</td>\n",
       "    </tr>\n",
       "    <tr>\n",
       "      <th>2010-01-02 03:00:00</th>\n",
       "      <td>181.0</td>\n",
       "      <td>-7</td>\n",
       "      <td>-5.0</td>\n",
       "      <td>1022.0</td>\n",
       "      <td>2.0</td>\n",
       "      <td>5.36</td>\n",
       "      <td>1</td>\n",
       "      <td>0</td>\n",
       "    </tr>\n",
       "    <tr>\n",
       "      <th>2010-01-02 04:00:00</th>\n",
       "      <td>138.0</td>\n",
       "      <td>-7</td>\n",
       "      <td>-5.0</td>\n",
       "      <td>1022.0</td>\n",
       "      <td>2.0</td>\n",
       "      <td>6.25</td>\n",
       "      <td>2</td>\n",
       "      <td>0</td>\n",
       "    </tr>\n",
       "  </tbody>\n",
       "</table>\n",
       "</div>"
      ],
      "text/plain": [
       "                     pollution  dew  temp   press  wnd_dir  wnd_spd  snow  \\\n",
       "date                                                                        \n",
       "2010-01-02 00:00:00      129.0  -16  -4.0  1020.0      2.0     1.79     0   \n",
       "2010-01-02 01:00:00      148.0  -15  -4.0  1020.0      2.0     2.68     0   \n",
       "2010-01-02 02:00:00      159.0  -11  -5.0  1021.0      2.0     3.57     0   \n",
       "2010-01-02 03:00:00      181.0   -7  -5.0  1022.0      2.0     5.36     1   \n",
       "2010-01-02 04:00:00      138.0   -7  -5.0  1022.0      2.0     6.25     2   \n",
       "\n",
       "                     rain  \n",
       "date                       \n",
       "2010-01-02 00:00:00     0  \n",
       "2010-01-02 01:00:00     0  \n",
       "2010-01-02 02:00:00     0  \n",
       "2010-01-02 03:00:00     0  \n",
       "2010-01-02 04:00:00     0  "
      ]
     },
     "execution_count": 8,
     "metadata": {},
     "output_type": "execute_result"
    }
   ],
   "source": [
    "data.head()"
   ]
  },
  {
   "cell_type": "code",
   "execution_count": 9,
   "metadata": {},
   "outputs": [],
   "source": [
    "values = data.values\n",
    "scaler = MinMaxScaler(feature_range=(0, 1))\n",
    "scaled = scaler.fit_transform(values)"
   ]
  },
  {
   "cell_type": "markdown",
   "metadata": {},
   "source": [
    "### create sequence data"
   ]
  },
  {
   "cell_type": "code",
   "execution_count": 13,
   "metadata": {},
   "outputs": [],
   "source": [
    "# split into train and test sets\n",
    "n_train_hours = 365*24*4\n",
    "train = scaled[:int(n_train_hours), :]\n",
    "test = scaled[int(n_train_hours):, :]"
   ]
  },
  {
   "cell_type": "code",
   "execution_count": 16,
   "metadata": {},
   "outputs": [],
   "source": [
    "def create_inout_sequences(input_data, tw):\n",
    "    inout_seq = []\n",
    "    L = len(input_data)\n",
    "    for i in range(L-tw):\n",
    "        train_seq = input_data[i:i+tw]\n",
    "        train_label = input_data[i+tw:i+tw+1,0:1]\n",
    "        inout_seq.append((train_seq ,train_label))\n",
    "    return inout_seq   "
   ]
  },
  {
   "cell_type": "code",
   "execution_count": 17,
   "metadata": {},
   "outputs": [],
   "source": [
    "tw = 4\n",
    "train_X = []\n",
    "train_Y = []\n",
    "\n",
    "train_in_out = create_inout_sequences(train,tw)\n",
    "for h in range(len(train_in_out)):\n",
    "    train_x = train_in_out[h][0]\n",
    "    train_y = train_in_out[h][1]\n",
    "        \n",
    "    train_X.append(train_x)\n",
    "    train_Y.append(train_y)\n",
    "    \n",
    "train_X_ = np.stack(train_X) \n",
    "train_Y_ = np.stack(train_Y).flatten()    \n"
   ]
  },
  {
   "cell_type": "code",
   "execution_count": 21,
   "metadata": {},
   "outputs": [],
   "source": [
    "test_X = []\n",
    "test_Y = []\n",
    "\n",
    "test_in_out = create_inout_sequences(test,tw)\n",
    "for k in range(len(test_in_out)):\n",
    "    test_x = test_in_out[k][0]\n",
    "    test_y = test_in_out[k][1]\n",
    "\n",
    "    test_X.append(test_x)\n",
    "    test_Y.append(test_y)\n",
    "    \n",
    "test_X_ = np.stack(test_X) \n",
    "test_Y_ = np.stack(test_Y).flatten()    "
   ]
  },
  {
   "cell_type": "code",
   "execution_count": 22,
   "metadata": {},
   "outputs": [],
   "source": [
    "train_X_ = torch.FloatTensor(train_X_)\n",
    "train_Y_ = torch.FloatTensor(train_Y_)\n",
    "\n",
    "test_X_ = torch.FloatTensor(test_X_)\n",
    "test_Y_ = torch.FloatTensor(test_Y_)"
   ]
  },
  {
   "cell_type": "markdown",
   "metadata": {},
   "source": [
    "### define model"
   ]
  },
  {
   "cell_type": "code",
   "execution_count": 28,
   "metadata": {},
   "outputs": [],
   "source": [
    "class LSTM_model(nn.Module):\n",
    "    def __init__(self,input_size,batch_size,output_size,hidden_size,n_layers,\n",
    "                drop_prob):\n",
    "        super(LSTM_model,self).__init__()\n",
    "        self.drop_prob = drop_prob\n",
    "        self.hidden_size = hidden_size\n",
    "        self.n_layers = n_layers\n",
    "        self.input_size = input_size\n",
    "        self.batch_size = batch_size\n",
    "        self.output_size = output_size\n",
    "        \n",
    "        self.lstm1 = nn.LSTM(input_size,hidden_size,n_layers,batch_first=True)\n",
    "                           \n",
    "        self.dropout = nn.Dropout(drop_prob)\n",
    "        self.fc = nn.Linear(hidden_size,output_size)\n",
    "       \n",
    "        \n",
    "        \n",
    "    def forward(self,input_x):\n",
    "        \n",
    "        #print(input_x.shape)    \n",
    "        # shape of hid and cell have shape (batch_size,num_layers, hidden_size).       \n",
    "        h0 = torch.zeros(self.n_layers, self.batch_size, self.hidden_size)\n",
    "        c0 = torch.zeros(self.n_layers, self.batch_size, self.hidden_size)\n",
    "        #print(h0.shape)\n",
    "        #print(c0.shape)\n",
    "        # shape of lstm_output have shape (batch_size,sequence_length, hidden_size). \n",
    "        lstm_output, (h1,c1) = self.lstm1(input_x, (h0,c0))\n",
    "        \n",
    "        out = self.dropout(lstm_output)  \n",
    "        out = self.fc(out[:,-1,:])\n",
    "        out = out.view(self.batch_size, -1)\n",
    "\n",
    "\n",
    "        return out\n",
    "    \n"
   ]
  },
  {
   "cell_type": "markdown",
   "metadata": {},
   "source": [
    "### Training"
   ]
  },
  {
   "cell_type": "code",
   "execution_count": 73,
   "metadata": {},
   "outputs": [],
   "source": [
    "num_epochs = 100\n",
    "learning_rate = 0.001\n",
    "\n",
    "input_size = 8\n",
    "batch_size = 64\n",
    "output_size = 1\n",
    "#size of hidden layers\n",
    "hidden_size = 32\n",
    "drop_prob = 0.5\n",
    "num_layers = 2\n",
    "\n",
    "train_loader = DataLoader(list(zip(train_X_,train_Y_)), batch_size=batch_size,shuffle=False, drop_last=True)\n",
    "test_loader = DataLoader(list(zip(test_X_,test_Y_)), batch_size=batch_size, shuffle=False, drop_last=True) \n",
    "\n",
    "model = LSTM_model(input_size, batch_size, output_size, hidden_size, num_layers,drop_prob)\n",
    "\n",
    "criterion = torch.nn.MSELoss()    # mean-squared error for regression\n",
    "optimizer = torch.optim.Adam(model.parameters(), lr=learning_rate)\n",
    "#optimizer = torch.optim.SGD(lstm.parameters(), lr=learning_rate)\n",
    "\n",
    "# Train the model\n",
    "for epoch in range(num_epochs):\n",
    "    \n",
    "    model.train()\n",
    "    for x_batch, y_batch in train_loader:\n",
    "        outputs = model(x_batch)\n",
    "        # obtain the loss function\n",
    "        loss = criterion(outputs,y_batch)\n",
    "        optimizer.zero_grad()\n",
    "\n",
    "        loss.backward()\n",
    "\n",
    "        optimizer.step()\n",
    "        if epoch % 5 == 0:\n",
    "          print(\"Epoch: %d, loss: %1.5f\" % (epoch, loss.item()))\n"
   ]
  },
  {
   "cell_type": "code",
   "execution_count": 56,
   "metadata": {},
   "outputs": [],
   "source": [
    "model.eval()\n",
    "\n",
    "Y_pred = []\n",
    "Y_true = []\n",
    "\n",
    "for x_batch, y_true in test_loader:\n",
    "    y_pred = model(x_batch).flatten()\n",
    "    y_pred = y_pred.detach().numpy().tolist()\n",
    "    Y_pred.append(y_pred)\n",
    "    Y_true.append(y_true)\n",
    "    \n",
    "\n",
    "Y_pred_ = np.array([item for sublist in Y_pred for item in sublist])\n",
    "Y_true_  = np.array([item for sublist in Y_true for item in sublist])\n",
    "    "
   ]
  },
  {
   "cell_type": "code",
   "execution_count": 72,
   "metadata": {},
   "outputs": [],
   "source": [
    "predict_array = np.zeros(shape=(len(Y_pred_), 8) )\n",
    "true_array = np.zeros(shape=(len(Y_true_), 8) )\n",
    "\n",
    "# put the predicted values in the first column\n",
    "predict_array[:,0] = Y_pred_\n",
    "true_array[:,0] = Y_true_\n",
    "\n",
    "# inverse transform and then select the first column\n",
    "Y_prediction = scaler.inverse_transform(predict_array)[:,0]\n",
    "Y_true = scaler.inverse_transform(true_array)[:,0]\n",
    "\n",
    "\n",
    "plt.plot(Y_prediction)\n",
    "plt.plot(Y_true)\n",
    "plt.suptitle('Time-Series Prediction')\n",
    "plt.show()"
   ]
  },
  {
   "cell_type": "code",
   "execution_count": null,
   "metadata": {},
   "outputs": [],
   "source": []
  },
  {
   "cell_type": "code",
   "execution_count": null,
   "metadata": {},
   "outputs": [],
   "source": []
  }
 ],
 "metadata": {
  "kernelspec": {
   "display_name": "Python 3",
   "language": "python",
   "name": "python3"
  },
  "language_info": {
   "codemirror_mode": {
    "name": "ipython",
    "version": 3
   },
   "file_extension": ".py",
   "mimetype": "text/x-python",
   "name": "python",
   "nbconvert_exporter": "python",
   "pygments_lexer": "ipython3",
   "version": "3.7.3"
  }
 },
 "nbformat": 4,
 "nbformat_minor": 2
}
